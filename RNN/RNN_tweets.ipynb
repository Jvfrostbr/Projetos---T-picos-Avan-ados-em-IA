{
 "cells": [
  {
   "cell_type": "markdown",
   "metadata": {},
   "source": [
    "# **Fazendo os imports das libs:**"
   ]
  },
  {
   "cell_type": "code",
   "execution_count": 29,
   "metadata": {
    "_cell_guid": "b1076dfc-b9ad-4769-8c92-a6c4dae69d19",
    "_uuid": "8f2839f25d086af736a60e9eeb907d3b93b6e0e5",
    "execution": {
     "iopub.execute_input": "2025-09-24T01:16:05.718633Z",
     "iopub.status.busy": "2025-09-24T01:16:05.718368Z",
     "iopub.status.idle": "2025-09-24T01:16:10.072048Z",
     "shell.execute_reply": "2025-09-24T01:16:10.070975Z",
     "shell.execute_reply.started": "2025-09-24T01:16:05.718600Z"
    },
    "trusted": true
   },
   "outputs": [
    {
     "name": "stderr",
     "output_type": "stream",
     "text": [
      "[nltk_data] Downloading package stopwords to /home/jv/nltk_data...\n",
      "[nltk_data]   Package stopwords is already up-to-date!\n"
     ]
    }
   ],
   "source": [
    "import pandas as pd\n",
    "import numpy as np\n",
    "import matplotlib.pyplot as plt\n",
    "import nltk\n",
    "import nltk\n",
    "import string\n",
    "\n",
    "nltk.download('stopwords')\n",
    "\n",
    "from sklearn.feature_extraction.text import TfidfVectorizer\n",
    "from sklearn.model_selection import train_test_split\n",
    "from nltk.tokenize import RegexpTokenizer"
   ]
  },
  {
   "cell_type": "markdown",
   "metadata": {},
   "source": [
    "# **Baixando os dataframes de treino e teste:**"
   ]
  },
  {
   "cell_type": "code",
   "execution_count": 30,
   "metadata": {
    "execution": {
     "iopub.execute_input": "2025-09-24T01:16:10.074740Z",
     "iopub.status.busy": "2025-09-24T01:16:10.074231Z",
     "iopub.status.idle": "2025-09-24T01:16:10.108325Z",
     "shell.execute_reply": "2025-09-24T01:16:10.107302Z",
     "shell.execute_reply.started": "2025-09-24T01:16:10.074704Z"
    },
    "trusted": true
   },
   "outputs": [
    {
     "name": "stdout",
     "output_type": "stream",
     "text": [
      "Dataframes baixados com sucesso!\n"
     ]
    }
   ],
   "source": [
    "dataframe_baixado = True\n",
    "try:\n",
    "    df_train = pd.read_csv('../kaggle_train.csv')\n",
    "    df_test = pd.read_csv('../kaggle_test.csv')\n",
    "except FileNotFoundError:\n",
    "    print(\"Certifique-se de que os arquivos 'kaggle_train.csv' e 'kaggle_test.csv' estão na raiz do projeto.\")\n",
    "    dataframe_baixado = False\n",
    "\n",
    "if (dataframe_baixado):\n",
    "    print(\"Dataframes baixados com sucesso!\")"
   ]
  },
  {
   "cell_type": "markdown",
   "metadata": {},
   "source": [
    "# **Visualizando os dataframes baixados:**"
   ]
  },
  {
   "cell_type": "code",
   "execution_count": 31,
   "metadata": {
    "execution": {
     "iopub.execute_input": "2025-09-24T01:16:10.109489Z",
     "iopub.status.busy": "2025-09-24T01:16:10.109241Z",
     "iopub.status.idle": "2025-09-24T01:16:10.133790Z",
     "shell.execute_reply": "2025-09-24T01:16:10.132898Z",
     "shell.execute_reply.started": "2025-09-24T01:16:10.109469Z"
    },
    "trusted": true
   },
   "outputs": [
    {
     "name": "stdout",
     "output_type": "stream",
     "text": [
      "Shape do dataframe de treino:  (800, 3)\n"
     ]
    },
    {
     "data": {
      "text/html": [
       "<div>\n",
       "<style scoped>\n",
       "    .dataframe tbody tr th:only-of-type {\n",
       "        vertical-align: middle;\n",
       "    }\n",
       "\n",
       "    .dataframe tbody tr th {\n",
       "        vertical-align: top;\n",
       "    }\n",
       "\n",
       "    .dataframe thead th {\n",
       "        text-align: right;\n",
       "    }\n",
       "</style>\n",
       "<table border=\"1\" class=\"dataframe\">\n",
       "  <thead>\n",
       "    <tr style=\"text-align: right;\">\n",
       "      <th></th>\n",
       "      <th>ID</th>\n",
       "      <th>text</th>\n",
       "      <th>label</th>\n",
       "    </tr>\n",
       "  </thead>\n",
       "  <tbody>\n",
       "    <tr>\n",
       "      <th>0</th>\n",
       "      <td>706</td>\n",
       "      <td>Quem vive chorando são as feministas. Graças a...</td>\n",
       "      <td>0</td>\n",
       "    </tr>\n",
       "    <tr>\n",
       "      <th>1</th>\n",
       "      <td>887</td>\n",
       "      <td>doida, sem amigos, mono teta, professora, corn...</td>\n",
       "      <td>1</td>\n",
       "    </tr>\n",
       "    <tr>\n",
       "      <th>2</th>\n",
       "      <td>439</td>\n",
       "      <td>só tem bolsominion falando mal da T.T. espumem...</td>\n",
       "      <td>0</td>\n",
       "    </tr>\n",
       "    <tr>\n",
       "      <th>3</th>\n",
       "      <td>705</td>\n",
       "      <td>A bebida é um novo passaporte para o estrupo, ...</td>\n",
       "      <td>0</td>\n",
       "    </tr>\n",
       "    <tr>\n",
       "      <th>4</th>\n",
       "      <td>497</td>\n",
       "      <td>Eu jamais perdoaria. Eu seguiria a minha vida.</td>\n",
       "      <td>0</td>\n",
       "    </tr>\n",
       "  </tbody>\n",
       "</table>\n",
       "</div>"
      ],
      "text/plain": [
       "    ID                                               text  label\n",
       "0  706  Quem vive chorando são as feministas. Graças a...      0\n",
       "1  887  doida, sem amigos, mono teta, professora, corn...      1\n",
       "2  439  só tem bolsominion falando mal da T.T. espumem...      0\n",
       "3  705  A bebida é um novo passaporte para o estrupo, ...      0\n",
       "4  497     Eu jamais perdoaria. Eu seguiria a minha vida.      0"
      ]
     },
     "execution_count": 31,
     "metadata": {},
     "output_type": "execute_result"
    }
   ],
   "source": [
    "print (\"Shape do dataframe de treino: \", df_train.shape)\n",
    "df_train.head()"
   ]
  },
  {
   "cell_type": "code",
   "execution_count": 32,
   "metadata": {
    "execution": {
     "iopub.execute_input": "2025-09-24T01:16:10.135072Z",
     "iopub.status.busy": "2025-09-24T01:16:10.134718Z",
     "iopub.status.idle": "2025-09-24T01:16:10.144293Z",
     "shell.execute_reply": "2025-09-24T01:16:10.143370Z",
     "shell.execute_reply.started": "2025-09-24T01:16:10.135044Z"
    },
    "trusted": true
   },
   "outputs": [
    {
     "name": "stdout",
     "output_type": "stream",
     "text": [
      "Shape do dataframe de teste:  (200, 2)\n"
     ]
    },
    {
     "data": {
      "text/html": [
       "<div>\n",
       "<style scoped>\n",
       "    .dataframe tbody tr th:only-of-type {\n",
       "        vertical-align: middle;\n",
       "    }\n",
       "\n",
       "    .dataframe tbody tr th {\n",
       "        vertical-align: top;\n",
       "    }\n",
       "\n",
       "    .dataframe thead th {\n",
       "        text-align: right;\n",
       "    }\n",
       "</style>\n",
       "<table border=\"1\" class=\"dataframe\">\n",
       "  <thead>\n",
       "    <tr style=\"text-align: right;\">\n",
       "      <th></th>\n",
       "      <th>ID</th>\n",
       "      <th>text</th>\n",
       "    </tr>\n",
       "  </thead>\n",
       "  <tbody>\n",
       "    <tr>\n",
       "      <th>0</th>\n",
       "      <td>893</td>\n",
       "      <td>às vezes eu penso \"putz, como eu queria uma na...</td>\n",
       "    </tr>\n",
       "    <tr>\n",
       "      <th>1</th>\n",
       "      <td>555</td>\n",
       "      <td>Ja tem o video completo da audiencia no canal ...</td>\n",
       "    </tr>\n",
       "    <tr>\n",
       "      <th>2</th>\n",
       "      <td>858</td>\n",
       "      <td>@NOME pq vc eh antifeminista??</td>\n",
       "    </tr>\n",
       "    <tr>\n",
       "      <th>3</th>\n",
       "      <td>582</td>\n",
       "      <td>Não fluiu pq o Paulo mandou os mgtow pra cuca ...</td>\n",
       "    </tr>\n",
       "    <tr>\n",
       "      <th>4</th>\n",
       "      <td>561</td>\n",
       "      <td>Ou seja. Se for beber não transem. Ou toma um ...</td>\n",
       "    </tr>\n",
       "  </tbody>\n",
       "</table>\n",
       "</div>"
      ],
      "text/plain": [
       "    ID                                               text\n",
       "0  893  às vezes eu penso \"putz, como eu queria uma na...\n",
       "1  555  Ja tem o video completo da audiencia no canal ...\n",
       "2  858                     @NOME pq vc eh antifeminista??\n",
       "3  582  Não fluiu pq o Paulo mandou os mgtow pra cuca ...\n",
       "4  561  Ou seja. Se for beber não transem. Ou toma um ..."
      ]
     },
     "execution_count": 32,
     "metadata": {},
     "output_type": "execute_result"
    }
   ],
   "source": [
    "print (\"Shape do dataframe de teste: \", df_test.shape)\n",
    "df_test.head()"
   ]
  },
  {
   "cell_type": "markdown",
   "metadata": {},
   "source": [
    "# **Realizando pré-processamento do texto:**"
   ]
  },
  {
   "cell_type": "code",
   "execution_count": 33,
   "metadata": {
    "execution": {
     "iopub.execute_input": "2025-09-24T01:16:10.145802Z",
     "iopub.status.busy": "2025-09-24T01:16:10.145363Z",
     "iopub.status.idle": "2025-09-24T01:16:10.247846Z",
     "shell.execute_reply": "2025-09-24T01:16:10.246727Z",
     "shell.execute_reply.started": "2025-09-24T01:16:10.145768Z"
    },
    "trusted": true
   },
   "outputs": [],
   "source": [
    "# Definindo stopwords com a lib NLTK configurada para PT-BR\n",
    "stop_words = list(nltk.corpus.stopwords.words('portuguese'))\n",
    "                  \n",
    "def pre_process_text(text: str) -> str:\n",
    "    # Deixando o texto lowercase e removendo a pontuação\n",
    "    text = text.lower().translate(str.maketrans('', '', string.punctuation))\n",
    "    \n",
    "    # Tokenização\n",
    "    tokenizer = RegexpTokenizer(r'\\w+')\n",
    "    tokens = tokenizer.tokenize(text)\n",
    "    \n",
    "    # Filtrando os tokens:\n",
    "    # 1- não pode ser stopword\n",
    "    # 2- ter mais de 3 caracteres (para evitar artigos, preposições e etc)\n",
    "    # 3- O 1° caractere do token não pode ser número\n",
    "    tokens = [word for word in tokens\n",
    "              if word not in stop_words\n",
    "              and len(word) > 1\n",
    "              and not word[0].isdigit()]\n",
    "    \n",
    "    # Reconstruindo texto\n",
    "    return ' '.join(tokens)\n",
    "\n",
    "# Aplicando o pré-processamento do texto no dataframe\n",
    "df_train['text_clean'] = df_train['text'].apply(pre_process_text)\n",
    "df_test['text_clean'] = df_test['text'].apply(pre_process_text)"
   ]
  },
  {
   "cell_type": "code",
   "execution_count": 34,
   "metadata": {
    "execution": {
     "iopub.execute_input": "2025-09-24T01:16:10.249122Z",
     "iopub.status.busy": "2025-09-24T01:16:10.248785Z",
     "iopub.status.idle": "2025-09-24T01:16:10.313308Z",
     "shell.execute_reply": "2025-09-24T01:16:10.312357Z",
     "shell.execute_reply.started": "2025-09-24T01:16:10.249094Z"
    },
    "trusted": true
   },
   "outputs": [],
   "source": [
    "# Embaralhando o dataframe de treino\n",
    "df_train = df_train.sample(frac=1, random_state=42)  \n",
    "\n",
    "# Separando features e alvo\n",
    "X = df_train['text']\n",
    "y = df_train['label']\n",
    "\n",
    "# Divisão simples treino/teste local \n",
    "X_train, X_val, y_train, y_val = train_test_split(X, y, test_size=0.2, random_state=42, stratify=y)"
   ]
  },
  {
   "cell_type": "code",
   "execution_count": 35,
   "metadata": {},
   "outputs": [
    {
     "name": "stdout",
     "output_type": "stream",
     "text": [
      "Pré-processamento, split e tokenização concluídos!\n",
      "Número de palavras no vocabulário: 3312\n",
      "Tamanho das sequências: 100\n"
     ]
    }
   ],
   "source": [
    "from tensorflow.keras.preprocessing.text import Tokenizer\n",
    "from tensorflow.keras.preprocessing.sequence import pad_sequences\n",
    "from sklearn.model_selection import train_test_split\n",
    "\n",
    "# Tokenização\n",
    "max_words = 10000  # tamanho do vocabulário\n",
    "tokenizer = Tokenizer(num_words=max_words, oov_token=\"<OOV>\")\n",
    "tokenizer.fit_on_texts(X_train)\n",
    "\n",
    "X_train_seq = tokenizer.texts_to_sequences(X_train)\n",
    "X_val_seq = tokenizer.texts_to_sequences(X_val)\n",
    "\n",
    "# Padding das sequências para um tamanho fixo\n",
    "max_len = 100  # número máximo de tokens por sequência\n",
    "X_train_pad = pad_sequences(X_train_seq, maxlen=max_len, padding='post', truncating='post')\n",
    "X_val_pad = pad_sequences(X_val_seq, maxlen=max_len, padding='post', truncating='post')\n",
    "\n",
    "print(\"Pré-processamento, split e tokenização concluídos!\")\n",
    "print(\"Número de palavras no vocabulário:\", min(max_words, len(tokenizer.word_index)))\n",
    "print(\"Tamanho das sequências:\", X_train_pad.shape[1])"
   ]
  },
  {
   "cell_type": "markdown",
   "metadata": {},
   "source": [
    "# **Treinamento da rede neural:**\n"
   ]
  },
  {
   "cell_type": "code",
   "execution_count": 50,
   "metadata": {
    "execution": {
     "iopub.execute_input": "2025-09-24T02:05:20.239681Z",
     "iopub.status.busy": "2025-09-24T02:05:20.239381Z",
     "iopub.status.idle": "2025-09-24T02:05:25.226362Z",
     "shell.execute_reply": "2025-09-24T02:05:25.225415Z",
     "shell.execute_reply.started": "2025-09-24T02:05:20.239662Z"
    },
    "trusted": true
   },
   "outputs": [
    {
     "name": "stdout",
     "output_type": "stream",
     "text": [
      "Epoch 1/10\n",
      "\u001b[1m20/20\u001b[0m \u001b[32m━━━━━━━━━━━━━━━━━━━━\u001b[0m\u001b[37m\u001b[0m \u001b[1m3s\u001b[0m 43ms/step - accuracy: 0.8047 - loss: 0.5082 - val_accuracy: 0.8375 - val_loss: 0.4447\n",
      "Epoch 2/10\n",
      "\u001b[1m20/20\u001b[0m \u001b[32m━━━━━━━━━━━━━━━━━━━━\u001b[0m\u001b[37m\u001b[0m \u001b[1m1s\u001b[0m 34ms/step - accuracy: 0.8359 - loss: 0.4659 - val_accuracy: 0.8375 - val_loss: 0.4438\n",
      "Epoch 3/10\n",
      "\u001b[1m20/20\u001b[0m \u001b[32m━━━━━━━━━━━━━━━━━━━━\u001b[0m\u001b[37m\u001b[0m \u001b[1m1s\u001b[0m 33ms/step - accuracy: 0.8359 - loss: 0.4587 - val_accuracy: 0.8375 - val_loss: 0.4442\n",
      "Epoch 4/10\n",
      "\u001b[1m20/20\u001b[0m \u001b[32m━━━━━━━━━━━━━━━━━━━━\u001b[0m\u001b[37m\u001b[0m \u001b[1m1s\u001b[0m 34ms/step - accuracy: 0.8359 - loss: 0.4531 - val_accuracy: 0.8375 - val_loss: 0.4444\n",
      "Epoch 5/10\n",
      "\u001b[1m20/20\u001b[0m \u001b[32m━━━━━━━━━━━━━━━━━━━━\u001b[0m\u001b[37m\u001b[0m \u001b[1m1s\u001b[0m 34ms/step - accuracy: 0.8359 - loss: 0.4567 - val_accuracy: 0.8375 - val_loss: 0.4438\n",
      "Epoch 6/10\n",
      "\u001b[1m20/20\u001b[0m \u001b[32m━━━━━━━━━━━━━━━━━━━━\u001b[0m\u001b[37m\u001b[0m \u001b[1m1s\u001b[0m 33ms/step - accuracy: 0.8359 - loss: 0.4587 - val_accuracy: 0.8375 - val_loss: 0.4447\n",
      "Epoch 7/10\n",
      "\u001b[1m20/20\u001b[0m \u001b[32m━━━━━━━━━━━━━━━━━━━━\u001b[0m\u001b[37m\u001b[0m \u001b[1m1s\u001b[0m 38ms/step - accuracy: 0.8359 - loss: 0.4601 - val_accuracy: 0.8375 - val_loss: 0.4448\n",
      "Epoch 8/10\n",
      "\u001b[1m20/20\u001b[0m \u001b[32m━━━━━━━━━━━━━━━━━━━━\u001b[0m\u001b[37m\u001b[0m \u001b[1m1s\u001b[0m 45ms/step - accuracy: 0.8359 - loss: 0.4483 - val_accuracy: 0.8375 - val_loss: 0.4439\n",
      "Epoch 9/10\n",
      "\u001b[1m20/20\u001b[0m \u001b[32m━━━━━━━━━━━━━━━━━━━━\u001b[0m\u001b[37m\u001b[0m \u001b[1m1s\u001b[0m 39ms/step - accuracy: 0.8359 - loss: 0.4533 - val_accuracy: 0.8375 - val_loss: 0.4449\n",
      "Epoch 10/10\n",
      "\u001b[1m20/20\u001b[0m \u001b[32m━━━━━━━━━━━━━━━━━━━━\u001b[0m\u001b[37m\u001b[0m \u001b[1m1s\u001b[0m 34ms/step - accuracy: 0.8359 - loss: 0.4576 - val_accuracy: 0.8375 - val_loss: 0.4440\n"
     ]
    }
   ],
   "source": [
    "from tensorflow.keras.models import Sequential\n",
    "from tensorflow.keras.layers import Embedding, LSTM, Dense, Dropout\n",
    "from sklearn.utils import class_weight\n",
    "import numpy as np\n",
    "\n",
    "# Parâmetros\n",
    "embedding_dim = 128   # dimensão dos vetores de embedding\n",
    "max_len = X_train_pad.shape[1]\n",
    "vocab_size = min(10000, len(tokenizer.word_index) + 1)\n",
    "\n",
    "# Definindo a RNN\n",
    "model = Sequential()\n",
    "model.add(Embedding(input_dim=vocab_size, output_dim=embedding_dim, input_length=max_len))\n",
    "model.add(LSTM(64, return_sequences=False))  \n",
    "model.add(Dropout(0.5))\n",
    "model.add(Dense(1, activation='sigmoid'))\n",
    "\n",
    "# Compilação\n",
    "model.compile(\n",
    "    optimizer='adam',\n",
    "    loss='binary_crossentropy',\n",
    "    metrics=['accuracy']\n",
    ")\n",
    "\n",
    "# Treinamento\n",
    "history = model.fit(\n",
    "    X_train_pad,\n",
    "    y_train,\n",
    "    epochs=10,\n",
    "    batch_size=32,\n",
    "    validation_data=(X_val_pad, y_val),\n",
    ")"
   ]
  },
  {
   "cell_type": "markdown",
   "metadata": {},
   "source": [
    "# **Plotando a acurácia do modelo em gráfico:**"
   ]
  },
  {
   "cell_type": "code",
   "execution_count": 49,
   "metadata": {
    "execution": {
     "iopub.execute_input": "2025-09-24T01:56:57.770188Z",
     "iopub.status.busy": "2025-09-24T01:56:57.769756Z",
     "iopub.status.idle": "2025-09-24T01:56:57.995940Z",
     "shell.execute_reply": "2025-09-24T01:56:57.995024Z",
     "shell.execute_reply.started": "2025-09-24T01:56:57.770162Z"
    },
    "trusted": true
   },
   "outputs": [
    {
     "data": {
      "image/png": "[encoded data removed]",
      "text/plain": [
       "<Figure size 800x500 with 1 Axes>"
      ]
     },
     "metadata": {},
     "output_type": "display_data"
    }
   ],
   "source": [
    "# Acurácia por época\n",
    "acc = history.history['accuracy']\n",
    "val_acc = history.history['val_accuracy']\n",
    "epochs = range(1, len(acc) + 1)\n",
    "\n",
    "# Plotar\n",
    "plt.figure(figsize=(8,5))\n",
    "plt.plot(epochs, acc, 'bo-', label='Treino')\n",
    "plt.plot(epochs, val_acc, 'ro-', label='Validação')\n",
    "plt.title('Acurácia por Época')\n",
    "plt.xlabel('Época')\n",
    "plt.ylabel('Acurácia')\n",
    "plt.xticks(epochs)\n",
    "plt.legend()\n",
    "plt.grid(True)\n",
    "plt.show()"
   ]
  }
 ],
 "metadata": {
  "kaggle": {
   "accelerator": "none",
   "dataSources": [
    {
     "databundleVersionId": 13697032,
     "sourceId": 114816,
     "sourceType": "competition"
    }
   ],
   "dockerImageVersionId": 31089,
   "isGpuEnabled": false,
   "isInternetEnabled": false,
   "language": "python",
   "sourceType": "notebook"
  },
  "kernelspec": {
   "display_name": "venv",
   "language": "python",
   "name": "python3"
  },
  "language_info": {
   "codemirror_mode": {
    "name": "ipython",
    "version": 3
   },
   "file_extension": ".py",
   "mimetype": "text/x-python",
   "name": "python",
   "nbconvert_exporter": "python",
   "pygments_lexer": "ipython3",
   "version": "3.10.12"
  }
 },
 "nbformat": 4,
 "nbformat_minor": 4
}
