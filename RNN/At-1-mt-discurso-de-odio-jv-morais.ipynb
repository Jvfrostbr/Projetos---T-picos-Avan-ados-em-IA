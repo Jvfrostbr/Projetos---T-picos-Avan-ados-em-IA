{
 "cells": [
  {
   "cell_type": "markdown",
   "metadata": {},
   "source": [
    "# **Fazendo os imports das libs:**"
   ]
  },
  {
   "cell_type": "code",
   "execution_count": 42,
   "metadata": {
    "_cell_guid": "b1076dfc-b9ad-4769-8c92-a6c4dae69d19",
    "_uuid": "8f2839f25d086af736a60e9eeb907d3b93b6e0e5",
    "execution": {
     "iopub.execute_input": "2025-09-24T01:16:05.718633Z",
     "iopub.status.busy": "2025-09-24T01:16:05.718368Z",
     "iopub.status.idle": "2025-09-24T01:16:10.072048Z",
     "shell.execute_reply": "2025-09-24T01:16:10.070975Z",
     "shell.execute_reply.started": "2025-09-24T01:16:05.718600Z"
    },
    "trusted": true
   },
   "outputs": [
    {
     "name": "stderr",
     "output_type": "stream",
     "text": [
      "[nltk_data] Downloading package stopwords to /home/jv/nltk_data...\n",
      "[nltk_data]   Package stopwords is already up-to-date!\n"
     ]
    }
   ],
   "source": [
    "import pandas as pd\n",
    "import numpy as np\n",
    "import matplotlib.pyplot as plt\n",
    "import nltk\n",
    "import nltk\n",
    "import string\n",
    "\n",
    "nltk.download('stopwords')\n",
    "\n",
    "from sklearn.feature_extraction.text import TfidfVectorizer\n",
    "from sklearn.model_selection import train_test_split\n",
    "from nltk.tokenize import RegexpTokenizer"
   ]
  },
  {
   "cell_type": "markdown",
   "metadata": {},
   "source": [
    "# **Baixando os dataframes de treino e teste:**"
   ]
  },
  {
   "cell_type": "code",
   "execution_count": 44,
   "metadata": {
    "execution": {
     "iopub.execute_input": "2025-09-24T01:16:10.074740Z",
     "iopub.status.busy": "2025-09-24T01:16:10.074231Z",
     "iopub.status.idle": "2025-09-24T01:16:10.108325Z",
     "shell.execute_reply": "2025-09-24T01:16:10.107302Z",
     "shell.execute_reply.started": "2025-09-24T01:16:10.074704Z"
    },
    "trusted": true
   },
   "outputs": [
    {
     "name": "stdout",
     "output_type": "stream",
     "text": [
      "Dataframes baixados com sucesso!\n"
     ]
    }
   ],
   "source": [
    "dataframe_baixado = True\n",
    "try:\n",
    "    df_train = pd.read_csv('../kaggle_train.csv')\n",
    "    df_test = pd.read_csv('../kaggle_test.csv')\n",
    "except FileNotFoundError:\n",
    "    print(\"Certifique-se de que os arquivos 'kaggle_train.csv' e 'kaggle_test.csv' estão na raiz do projeto.\")\n",
    "    dataframe_baixado = False\n",
    "\n",
    "if (dataframe_baixado):\n",
    "    print(\"Dataframes baixados com sucesso!\")"
   ]
  },
  {
   "cell_type": "markdown",
   "metadata": {},
   "source": [
    "# **Visualizando os dataframes baixados:**"
   ]
  },
  {
   "cell_type": "code",
   "execution_count": 45,
   "metadata": {
    "execution": {
     "iopub.execute_input": "2025-09-24T01:16:10.109489Z",
     "iopub.status.busy": "2025-09-24T01:16:10.109241Z",
     "iopub.status.idle": "2025-09-24T01:16:10.133790Z",
     "shell.execute_reply": "2025-09-24T01:16:10.132898Z",
     "shell.execute_reply.started": "2025-09-24T01:16:10.109469Z"
    },
    "trusted": true
   },
   "outputs": [
    {
     "name": "stdout",
     "output_type": "stream",
     "text": [
      "Shape do dataframe de treino:  (800, 3)\n"
     ]
    },
    {
     "data": {
      "text/html": [
       "<div>\n",
       "<style scoped>\n",
       "    .dataframe tbody tr th:only-of-type {\n",
       "        vertical-align: middle;\n",
       "    }\n",
       "\n",
       "    .dataframe tbody tr th {\n",
       "        vertical-align: top;\n",
       "    }\n",
       "\n",
       "    .dataframe thead th {\n",
       "        text-align: right;\n",
       "    }\n",
       "</style>\n",
       "<table border=\"1\" class=\"dataframe\">\n",
       "  <thead>\n",
       "    <tr style=\"text-align: right;\">\n",
       "      <th></th>\n",
       "      <th>ID</th>\n",
       "      <th>text</th>\n",
       "      <th>label</th>\n",
       "    </tr>\n",
       "  </thead>\n",
       "  <tbody>\n",
       "    <tr>\n",
       "      <th>0</th>\n",
       "      <td>706</td>\n",
       "      <td>Quem vive chorando são as feministas. Graças a...</td>\n",
       "      <td>0</td>\n",
       "    </tr>\n",
       "    <tr>\n",
       "      <th>1</th>\n",
       "      <td>887</td>\n",
       "      <td>doida, sem amigos, mono teta, professora, corn...</td>\n",
       "      <td>1</td>\n",
       "    </tr>\n",
       "    <tr>\n",
       "      <th>2</th>\n",
       "      <td>439</td>\n",
       "      <td>só tem bolsominion falando mal da T.T. \\nespum...</td>\n",
       "      <td>0</td>\n",
       "    </tr>\n",
       "    <tr>\n",
       "      <th>3</th>\n",
       "      <td>705</td>\n",
       "      <td>A bebida é um novo passaporte para o estrupo, ...</td>\n",
       "      <td>0</td>\n",
       "    </tr>\n",
       "    <tr>\n",
       "      <th>4</th>\n",
       "      <td>497</td>\n",
       "      <td>Eu jamais perdoaria. Eu seguiria a minha vida.</td>\n",
       "      <td>0</td>\n",
       "    </tr>\n",
       "  </tbody>\n",
       "</table>\n",
       "</div>"
      ],
      "text/plain": [
       "    ID                                               text  label\n",
       "0  706  Quem vive chorando são as feministas. Graças a...      0\n",
       "1  887  doida, sem amigos, mono teta, professora, corn...      1\n",
       "2  439  só tem bolsominion falando mal da T.T. \\nespum...      0\n",
       "3  705  A bebida é um novo passaporte para o estrupo, ...      0\n",
       "4  497     Eu jamais perdoaria. Eu seguiria a minha vida.      0"
      ]
     },
     "execution_count": 45,
     "metadata": {},
     "output_type": "execute_result"
    }
   ],
   "source": [
    "print (\"Shape do dataframe de treino: \", df_train.shape)\n",
    "df_train.head()"
   ]
  },
  {
   "cell_type": "code",
   "execution_count": 46,
   "metadata": {
    "execution": {
     "iopub.execute_input": "2025-09-24T01:16:10.135072Z",
     "iopub.status.busy": "2025-09-24T01:16:10.134718Z",
     "iopub.status.idle": "2025-09-24T01:16:10.144293Z",
     "shell.execute_reply": "2025-09-24T01:16:10.143370Z",
     "shell.execute_reply.started": "2025-09-24T01:16:10.135044Z"
    },
    "trusted": true
   },
   "outputs": [
    {
     "name": "stdout",
     "output_type": "stream",
     "text": [
      "Shape do dataframe de teste:  (200, 2)\n"
     ]
    },
    {
     "data": {
      "text/html": [
       "<div>\n",
       "<style scoped>\n",
       "    .dataframe tbody tr th:only-of-type {\n",
       "        vertical-align: middle;\n",
       "    }\n",
       "\n",
       "    .dataframe tbody tr th {\n",
       "        vertical-align: top;\n",
       "    }\n",
       "\n",
       "    .dataframe thead th {\n",
       "        text-align: right;\n",
       "    }\n",
       "</style>\n",
       "<table border=\"1\" class=\"dataframe\">\n",
       "  <thead>\n",
       "    <tr style=\"text-align: right;\">\n",
       "      <th></th>\n",
       "      <th>ID</th>\n",
       "      <th>text</th>\n",
       "    </tr>\n",
       "  </thead>\n",
       "  <tbody>\n",
       "    <tr>\n",
       "      <th>0</th>\n",
       "      <td>893</td>\n",
       "      <td>às vezes eu penso \"putz, como eu queria uma na...</td>\n",
       "    </tr>\n",
       "    <tr>\n",
       "      <th>1</th>\n",
       "      <td>555</td>\n",
       "      <td>Ja tem o video completo da audiencia no canal ...</td>\n",
       "    </tr>\n",
       "    <tr>\n",
       "      <th>2</th>\n",
       "      <td>858</td>\n",
       "      <td>@NOME pq vc eh antifeminista??</td>\n",
       "    </tr>\n",
       "    <tr>\n",
       "      <th>3</th>\n",
       "      <td>582</td>\n",
       "      <td>Não fluiu pq o Paulo mandou os mgtow pra cuca ...</td>\n",
       "    </tr>\n",
       "    <tr>\n",
       "      <th>4</th>\n",
       "      <td>561</td>\n",
       "      <td>Ou seja. Se for beber não transem. Ou toma um ...</td>\n",
       "    </tr>\n",
       "  </tbody>\n",
       "</table>\n",
       "</div>"
      ],
      "text/plain": [
       "    ID                                               text\n",
       "0  893  às vezes eu penso \"putz, como eu queria uma na...\n",
       "1  555  Ja tem o video completo da audiencia no canal ...\n",
       "2  858                     @NOME pq vc eh antifeminista??\n",
       "3  582  Não fluiu pq o Paulo mandou os mgtow pra cuca ...\n",
       "4  561  Ou seja. Se for beber não transem. Ou toma um ..."
      ]
     },
     "execution_count": 46,
     "metadata": {},
     "output_type": "execute_result"
    }
   ],
   "source": [
    "print (\"Shape do dataframe de teste: \", df_test.shape)\n",
    "df_test.head()"
   ]
  },
  {
   "cell_type": "markdown",
   "metadata": {},
   "source": [
    "# **Realizando pré-processamento do texto:**"
   ]
  },
  {
   "cell_type": "code",
   "execution_count": 47,
   "metadata": {
    "execution": {
     "iopub.execute_input": "2025-09-24T01:16:10.145802Z",
     "iopub.status.busy": "2025-09-24T01:16:10.145363Z",
     "iopub.status.idle": "2025-09-24T01:16:10.247846Z",
     "shell.execute_reply": "2025-09-24T01:16:10.246727Z",
     "shell.execute_reply.started": "2025-09-24T01:16:10.145768Z"
    },
    "trusted": true
   },
   "outputs": [],
   "source": [
    "# Definindo stopwords com a lib NLTK configurada para PT-BR\n",
    "stop_words = list(nltk.corpus.stopwords.words('portuguese'))\n",
    "                  \n",
    "def pre_process_text(text: str) -> str:\n",
    "    # Deixando o texto lowercase e removendo a pontuação\n",
    "    text = text.lower().translate(str.maketrans('', '', string.punctuation))\n",
    "    \n",
    "    # Tokenização\n",
    "    tokenizer = RegexpTokenizer(r'\\w+')\n",
    "    tokens = tokenizer.tokenize(text)\n",
    "    \n",
    "    # Filtrando os tokens:\n",
    "    # 1- não pode ser stopword\n",
    "    # 2- ter mais de 3 caracteres (para evitar artigos, preposições e etc)\n",
    "    # 3- O 1° caractere do token não pode ser número\n",
    "    tokens = [word for word in tokens\n",
    "              if word not in stop_words\n",
    "              and len(word) > 1\n",
    "              and not word[0].isdigit()]\n",
    "    \n",
    "    # Reconstruindo texto\n",
    "    return ' '.join(tokens)\n",
    "\n",
    "# Aplicando o pré-processamento do texto no dataframe\n",
    "df_train['text_clean'] = df_train['text'].apply(pre_process_text)\n",
    "df_test['text_clean'] = df_test['text'].apply(pre_process_text)"
   ]
  },
  {
   "cell_type": "code",
   "execution_count": 50,
   "metadata": {
    "execution": {
     "iopub.execute_input": "2025-09-24T01:16:10.249122Z",
     "iopub.status.busy": "2025-09-24T01:16:10.248785Z",
     "iopub.status.idle": "2025-09-24T01:16:10.313308Z",
     "shell.execute_reply": "2025-09-24T01:16:10.312357Z",
     "shell.execute_reply.started": "2025-09-24T01:16:10.249094Z"
    },
    "trusted": true
   },
   "outputs": [
    {
     "name": "stdout",
     "output_type": "stream",
     "text": [
      "Pré-processamento, split e TF-IDF concluídos!\n",
      "Número de features TF-IDF: 3200\n"
     ]
    }
   ],
   "source": [
    "# Embaralhando o dataframe de treino\n",
    "df_train = df_train.sample(frac=1, random_state=42)  \n",
    "\n",
    "# Separando features e alvo\n",
    "X = df_train['text']\n",
    "y = df_train['label']\n",
    "\n",
    "# Divisão simples treino/teste local \n",
    "X_train, X_val, y_train, y_val = train_test_split(X, y, test_size=0.2, random_state=42, stratify=y)\n",
    "\n",
    "# TF-IDF\n",
    "tfidf = TfidfVectorizer(lowercase=True)\n",
    "X_train_tfidf = tfidf.fit_transform(X_train)\n",
    "X_val_tfidf = tfidf.transform(X_val)\n",
    "\n",
    "print(\"Pré-processamento, split e TF-IDF concluídos!\")\n",
    "print(\"Número de features TF-IDF:\", X_train_tfidf.shape[1])"
   ]
  },
  {
   "cell_type": "markdown",
   "metadata": {},
   "source": [
    "# **Treinamento da rede neural:**\n"
   ]
  },
  {
   "cell_type": "code",
   "execution_count": 51,
   "metadata": {
    "execution": {
     "iopub.execute_input": "2025-09-24T02:05:20.239681Z",
     "iopub.status.busy": "2025-09-24T02:05:20.239381Z",
     "iopub.status.idle": "2025-09-24T02:05:25.226362Z",
     "shell.execute_reply": "2025-09-24T02:05:25.225415Z",
     "shell.execute_reply.started": "2025-09-24T02:05:20.239662Z"
    },
    "trusted": true
   },
   "outputs": [
    {
     "name": "stdout",
     "output_type": "stream",
     "text": [
      "Epoch 1/3\n"
     ]
    },
    {
     "name": "stderr",
     "output_type": "stream",
     "text": [
      "/home/jv/Documentos/GitHub/Projetos-Topicos-Avancados-em-IA/venv/lib/python3.10/site-packages/keras/src/layers/core/dense.py:92: UserWarning: Do not pass an `input_shape`/`input_dim` argument to a layer. When using Sequential models, prefer using an `Input(shape)` object as the first layer in the model instead.\n",
      "  super().__init__(activity_regularizer=activity_regularizer, **kwargs)\n",
      "2025-09-24 04:26:16.661191: E external/local_xla/xla/stream_executor/cuda/cuda_platform.cc:51] failed call to cuInit: INTERNAL: CUDA error: Failed call to cuInit: UNKNOWN ERROR (303)\n"
     ]
    },
    {
     "name": "stdout",
     "output_type": "stream",
     "text": [
      "\u001b[1m20/20\u001b[0m \u001b[32m━━━━━━━━━━━━━━━━━━━━\u001b[0m\u001b[37m\u001b[0m \u001b[1m1s\u001b[0m 21ms/step - accuracy: 0.7750 - loss: 0.6454 - val_accuracy: 0.8375 - val_loss: 0.5681\n",
      "Epoch 2/3\n",
      "\u001b[1m20/20\u001b[0m \u001b[32m━━━━━━━━━━━━━━━━━━━━\u001b[0m\u001b[37m\u001b[0m \u001b[1m0s\u001b[0m 12ms/step - accuracy: 0.8359 - loss: 0.4747 - val_accuracy: 0.8375 - val_loss: 0.4304\n",
      "Epoch 3/3\n",
      "\u001b[1m20/20\u001b[0m \u001b[32m━━━━━━━━━━━━━━━━━━━━\u001b[0m\u001b[37m\u001b[0m \u001b[1m0s\u001b[0m 12ms/step - accuracy: 0.8359 - loss: 0.3518 - val_accuracy: 0.8375 - val_loss: 0.4146\n"
     ]
    }
   ],
   "source": [
    "from tensorflow.keras.models import Sequential\n",
    "from tensorflow.keras.layers import Dense\n",
    "\n",
    "input_dim = X_train_tfidf.shape[1]\n",
    "\n",
    "# Definindo as camadas da rede neural\n",
    "model = Sequential()\n",
    "model.add(Dense(128, activation='relu', input_dim=input_dim))\n",
    "model.add(Dense(64, activation='relu'))\n",
    "model.add(Dense(1, activation='sigmoid'))\n",
    "\n",
    "# Compilando o modelo\n",
    "model.compile(\n",
    "    optimizer='adam',\n",
    "    loss='binary_crossentropy',\n",
    "    metrics=['accuracy']\n",
    ")\n",
    "\n",
    "# Iniciando o treinamento do modelo\n",
    "history = model.fit(\n",
    "    X_train_tfidf,\n",
    "    y_train,\n",
    "    epochs=3,\n",
    "    batch_size=32,\n",
    "    validation_data=(X_val_tfidf, y_val),\n",
    ")"
   ]
  },
  {
   "cell_type": "markdown",
   "metadata": {},
   "source": [
    "# **Plotando a acurácia do modelo em gráfico:**"
   ]
  },
  {
   "cell_type": "code",
   "execution_count": 52,
   "metadata": {
    "execution": {
     "iopub.execute_input": "2025-09-24T01:56:57.770188Z",
     "iopub.status.busy": "2025-09-24T01:56:57.769756Z",
     "iopub.status.idle": "2025-09-24T01:56:57.995940Z",
     "shell.execute_reply": "2025-09-24T01:56:57.995024Z",
     "shell.execute_reply.started": "2025-09-24T01:56:57.770162Z"
    },
    "trusted": true
   },
   "outputs": [
    {
     "data": {
      "image/png": "[encoded data removed]",
      "text/plain": [
       "<Figure size 800x500 with 1 Axes>"
      ]
     },
     "metadata": {},
     "output_type": "display_data"
    }
   ],
   "source": [
    "# Acurácia por época\n",
    "acc = history.history['accuracy']\n",
    "val_acc = history.history['val_accuracy']\n",
    "epochs = range(1, len(acc) + 1)\n",
    "\n",
    "# Plotar\n",
    "plt.figure(figsize=(8,5))\n",
    "plt.plot(epochs, acc, 'bo-', label='Treino')\n",
    "plt.plot(epochs, val_acc, 'ro-', label='Validação')\n",
    "plt.title('Acurácia por Época')\n",
    "plt.xlabel('Época')\n",
    "plt.ylabel('Acurácia')\n",
    "plt.xticks(epochs)\n",
    "plt.legend()\n",
    "plt.grid(True)\n",
    "plt.show()"
   ]
  },
  {
   "cell_type": "markdown",
   "metadata": {},
   "source": [
    "# **Análise da predição do nosso modelo por meio da matriz de confusão:**"
   ]
  },
  {
   "cell_type": "code",
   "execution_count": 54,
   "metadata": {
    "execution": {
     "iopub.execute_input": "2025-09-24T01:46:00.015327Z",
     "iopub.status.busy": "2025-09-24T01:46:00.014671Z",
     "iopub.status.idle": "2025-09-24T01:46:00.468491Z",
     "shell.execute_reply": "2025-09-24T01:46:00.467692Z",
     "shell.execute_reply.started": "2025-09-24T01:46:00.015300Z"
    },
    "trusted": true
   },
   "outputs": [
    {
     "name": "stdout",
     "output_type": "stream",
     "text": [
      "\u001b[1m5/5\u001b[0m \u001b[32m━━━━━━━━━━━━━━━━━━━━\u001b[0m\u001b[37m\u001b[0m \u001b[1m0s\u001b[0m 10ms/step\n"
     ]
    },
    {
     "data": {
      "image/png": "[encoded data removed]",
      "text/plain": [
       "<Figure size 640x480 with 2 Axes>"
      ]
     },
     "metadata": {},
     "output_type": "display_data"
    }
   ],
   "source": [
    "from sklearn.metrics import confusion_matrix, ConfusionMatrixDisplay\n",
    "\n",
    "# Fazendo predições no conjunto de validação\n",
    "y_pred_probs = model.predict(X_val_tfidf)\n",
    "\n",
    "# Convertendo probabilidades para classes (0 ou 1)\n",
    "y_pred_labels = (y_pred_probs > 0.5).astype(int).flatten()\n",
    "\n",
    "# Plotando a matriz de confusão\n",
    "cm = confusion_matrix(y_val, y_pred_labels, labels=[0, 1])\n",
    "disp = ConfusionMatrixDisplay(confusion_matrix=cm, display_labels=[\"não ódio\", \"ódio\"])\n",
    "disp.plot(cmap=\"Blues\")\n",
    "plt.show()"
   ]
  },
  {
   "cell_type": "markdown",
   "metadata": {},
   "source": [
    "# **Análise da distribuição das classes no dataframe de treino:**"
   ]
  },
  {
   "cell_type": "code",
   "execution_count": 55,
   "metadata": {
    "execution": {
     "iopub.execute_input": "2025-09-24T01:16:29.905176Z",
     "iopub.status.busy": "2025-09-24T01:16:29.904810Z",
     "iopub.status.idle": "2025-09-24T01:16:30.296932Z",
     "shell.execute_reply": "2025-09-24T01:16:30.295957Z",
     "shell.execute_reply.started": "2025-09-24T01:16:29.905147Z"
    },
    "trusted": true
   },
   "outputs": [
    {
     "data": {
      "image/png": "[encoded data removed]",
      "text/plain": [
       "<Figure size 1000x400 with 2 Axes>"
      ]
     },
     "metadata": {},
     "output_type": "display_data"
    }
   ],
   "source": [
    "# Contagem e porcentagem\n",
    "class_counts = df_train['label'].value_counts()\n",
    "class_percent = df_train['label'].value_counts(normalize=True) * 100\n",
    "\n",
    "# Criar figura com 2 gráficos\n",
    "fig, axes = plt.subplots(1, 2, figsize=(10,4))\n",
    "\n",
    "# --- Gráfico 1: Contagem ---\n",
    "axes[0].bar(class_counts.index, class_counts.values, color=['orange','blue'])\n",
    "axes[0].set_title(\"Distribuição das Classes (Contagem)\")\n",
    "axes[0].set_xlabel(\"Label (0=Não Ódio, 1=Ódio)\")\n",
    "axes[0].set_ylabel(\"Quantidade\")\n",
    "# Adicionar valores\n",
    "for i, v in enumerate(class_counts.values):\n",
    "    axes[0].text(i, v + 1, str(v), ha='center', va='bottom')\n",
    "\n",
    "# --- Gráfico 2: Porcentagem ---\n",
    "axes[1].bar(class_percent.index, class_percent.values, color=['orange','blue'])\n",
    "axes[1].set_title(\"Distribuição das Classes (%)\")\n",
    "axes[1].set_xlabel(\"Label (0=Não Ódio, 1=Ódio)\")\n",
    "axes[1].set_ylabel(\"Porcentagem\")\n",
    "# Adicionar valores\n",
    "for i, v in enumerate(class_percent.values):\n",
    "    axes[1].text(i, v + 0.5, f\"{v:.1f}%\", ha='center', va='bottom')\n",
    "\n",
    "plt.tight_layout()\n",
    "plt.show()"
   ]
  },
  {
   "cell_type": "markdown",
   "metadata": {},
   "source": [
    "<h2>Conclusão:</h2>\n",
    "\n",
    "<p style=\"font-size:18px;\">\n",
    "1. O nosso modelo consegue ter uma acurácia boa para os dados de treino, contudo os dados de validação ficaram estagnados com o passar das épocas, configurando em um caso de overfitting.<br><br>\n",
    "2. Com base nas informações exibidas pela matriz de confusão, o nosso modelo possui dificuldades de identificar textos classificados com ódio, pelo dataframe.<br><br>\n",
    "3. Por meio da distribuição dos dados do dataframe de treino, é possível notar que a causa da dificuldade de identificação do nosso modelo se deve ao fato do dataframe ser mal balanceado, sendo apenas composto por 16,4% de textos classificados com ódio.\n",
    "</p>"
   ]
  },
  {
   "cell_type": "code",
   "execution_count": 59,
   "metadata": {
    "execution": {
     "iopub.execute_input": "2025-09-24T01:16:30.298689Z",
     "iopub.status.busy": "2025-09-24T01:16:30.297990Z",
     "iopub.status.idle": "2025-09-24T01:16:30.303441Z",
     "shell.execute_reply": "2025-09-24T01:16:30.302471Z",
     "shell.execute_reply.started": "2025-09-24T01:16:30.298659Z"
    },
    "trusted": true
   },
   "outputs": [
    {
     "name": "stdout",
     "output_type": "stream",
     "text": [
      "Distribuição de classes original: Counter({0: 535, 1: 105})\n",
      "Distribuição de classes balanceada: Counter({0: 535, 1: 535})\n"
     ]
    }
   ],
   "source": [
    "from imblearn.over_sampling import SMOTE\n",
    "from collections import Counter\n",
    "\n",
    "# Verifique a distribuição original das classes\n",
    "print('Distribuição de classes original: {}'.format(Counter(y_train)))\n",
    "\n",
    "# Instancie o SMOTE\n",
    "sm = SMOTE(random_state=42)\n",
    "\n",
    "# Aplique o SMOTE para gerar novas amostras da classe minoritária\n",
    "X_res, y_res = sm.fit_resample(X_train_tfidf, y_train)\n",
    "\n",
    "# Verifique a nova distribuição das classes após o SMOTE\n",
    "print('Distribuição de classes balanceada: {}'.format(Counter(y_res)))"
   ]
  },
  {
   "cell_type": "markdown",
   "metadata": {},
   "source": [
    "# **Balanceamento das classes do dataframe por meio do Oversampling:**"
   ]
  },
  {
   "cell_type": "code",
   "execution_count": null,
   "metadata": {
    "execution": {
     "iopub.execute_input": "2025-09-24T01:16:30.304599Z",
     "iopub.status.busy": "2025-09-24T01:16:30.304359Z",
     "iopub.status.idle": "2025-09-24T01:16:30.326121Z",
     "shell.execute_reply": "2025-09-24T01:16:30.325161Z",
     "shell.execute_reply.started": "2025-09-24T01:16:30.304580Z"
    },
    "trusted": true
   },
   "outputs": [],
   "source": [
    "# Filtrando o dataframe de treino com base nas classes\n",
    "df_odio = df_train[df_train['label'] == 1]\n",
    "df_nao_odio = df_train[df_train['label'] == 0]\n",
    "\n",
    "# Obtendo o valor de multiplicador da linhas da classe ódio a ser balanceado \n",
    "multiplicador = len(df_nao_odio) // len(df_odio)\n",
    "\n",
    "# Criando a base de treino balanceada\n",
    "df_train_balanced = pd.concat([df_nao_odio] + [df_odio]*multiplicador, ignore_index=True)\n",
    "\n",
    "# Embaralhando a base treino\n",
    "df_train_balanced = df_train_balanced.sample(frac=1, random_state=42)  "
   ]
  },
  {
   "cell_type": "markdown",
   "metadata": {},
   "source": [
    "# **Verificando novamente a distribuição das classes com o dataframe de treino balanceado:**"
   ]
  },
  {
   "cell_type": "code",
   "execution_count": 60,
   "metadata": {
    "execution": {
     "iopub.execute_input": "2025-09-24T01:16:30.327297Z",
     "iopub.status.busy": "2025-09-24T01:16:30.327017Z",
     "iopub.status.idle": "2025-09-24T01:16:30.695176Z",
     "shell.execute_reply": "2025-09-24T01:16:30.694208Z",
     "shell.execute_reply.started": "2025-09-24T01:16:30.327276Z"
    },
    "trusted": true
   },
   "outputs": [
    {
     "ename": "NameError",
     "evalue": "name 'df_train_balanced' is not defined",
     "output_type": "error",
     "traceback": [
      "\u001b[0;31m---------------------------------------------------------------------------\u001b[0m",
      "\u001b[0;31mNameError\u001b[0m                                 Traceback (most recent call last)",
      "Cell \u001b[0;32mIn[60], line 2\u001b[0m\n\u001b[1;32m      1\u001b[0m \u001b[38;5;66;03m# Contagem e porcentagem\u001b[39;00m\n\u001b[0;32m----> 2\u001b[0m class_counts \u001b[38;5;241m=\u001b[39m \u001b[43mdf_train_balanced\u001b[49m[\u001b[38;5;124m'\u001b[39m\u001b[38;5;124mlabel\u001b[39m\u001b[38;5;124m'\u001b[39m]\u001b[38;5;241m.\u001b[39mvalue_counts()\n\u001b[1;32m      3\u001b[0m class_percent \u001b[38;5;241m=\u001b[39m df_train_balanced[\u001b[38;5;124m'\u001b[39m\u001b[38;5;124mlabel\u001b[39m\u001b[38;5;124m'\u001b[39m]\u001b[38;5;241m.\u001b[39mvalue_counts(normalize\u001b[38;5;241m=\u001b[39m\u001b[38;5;28;01mTrue\u001b[39;00m) \u001b[38;5;241m*\u001b[39m \u001b[38;5;241m100\u001b[39m\n\u001b[1;32m      5\u001b[0m \u001b[38;5;66;03m# Criar figura com 2 gráficos\u001b[39;00m\n",
      "\u001b[0;31mNameError\u001b[0m: name 'df_train_balanced' is not defined"
     ]
    }
   ],
   "source": [
    "# Contagem e porcentagem\n",
    "class_counts = df_train_balanced['label'].value_counts()\n",
    "class_percent = df_train_balanced['label'].value_counts(normalize=True) * 100\n",
    "\n",
    "# Criar figura com 2 gráficos\n",
    "fig, axes = plt.subplots(1, 2, figsize=(10,4))\n",
    "\n",
    "# --- Gráfico 1: Contagem ---\n",
    "axes[0].bar(class_counts.index, class_counts.values, color=['orange','blue'])\n",
    "axes[0].set_title(\"Distribuição das Classes (Contagem)\")\n",
    "axes[0].set_xlabel(\"Label (0=Não Ódio, 1=Ódio)\")\n",
    "axes[0].set_ylabel(\"Quantidade\")\n",
    "# Adicionar valores\n",
    "for i, v in enumerate(class_counts.values):\n",
    "    axes[0].text(i, v + 1, str(v), ha='center', va='bottom')\n",
    "\n",
    "# --- Gráfico 2: Porcentagem ---\n",
    "axes[1].bar(class_percent.index, class_percent.values, color=['orange','blue'])\n",
    "axes[1].set_title(\"Distribuição das Classes (%)\")\n",
    "axes[1].set_xlabel(\"Label (0=Não Ódio, 1=Ódio)\")\n",
    "axes[1].set_ylabel(\"Porcentagem\")\n",
    "# Adicionar valores\n",
    "for i, v in enumerate(class_percent.values):\n",
    "    axes[1].text(i, v + 0.5, f\"{v:.1f}%\", ha='center', va='bottom')\n",
    "\n",
    "plt.tight_layout()\n",
    "plt.show()"
   ]
  },
  {
   "cell_type": "markdown",
   "metadata": {},
   "source": [
    "# **Separando os dados com o dataset de treino balanceado:**"
   ]
  },
  {
   "cell_type": "code",
   "execution_count": null,
   "metadata": {
    "execution": {
     "iopub.execute_input": "2025-09-24T01:16:30.696446Z",
     "iopub.status.busy": "2025-09-24T01:16:30.696091Z",
     "iopub.status.idle": "2025-09-24T01:16:30.788567Z",
     "shell.execute_reply": "2025-09-24T01:16:30.787636Z",
     "shell.execute_reply.started": "2025-09-24T01:16:30.696394Z"
    },
    "trusted": true
   },
   "outputs": [
    {
     "name": "stdout",
     "output_type": "stream",
     "text": [
      "Pré-processamento, split e TF-IDF concluídos!\n",
      "Número de features TF-IDF: 3231\n"
     ]
    }
   ],
   "source": [
    "# Separando features e alvo\n",
    "X_balanced = df_train_balanced['text']  # ou coluna de texto que você usa\n",
    "y_balanced = df_train_balanced['label']\n",
    "\n",
    "# Dividindo novamente o dataset de treino balanceado pra 2 partições treino e validação \n",
    "X_train2, X_val2, y_train2, y_val2 = train_test_split(\n",
    "    X_balanced, y_balanced, test_size=0.2, random_state=42, stratify=y_balanced\n",
    ")\n",
    "\n",
    "# Reaplicando TF-IDF \n",
    "tfidf2 = TfidfVectorizer(lowercase=True)\n",
    "X_train_tfidf2 = tfidf2.fit_transform(X_train2).toarray()\n",
    "X_val_tfidf2 = tfidf2.transform(X_val2).toarray()\n",
    "\n",
    "\n",
    "print(\"Pré-processamento, split e TF-IDF concluídos!\")\n",
    "print(\"Número de features TF-IDF:\", X_train_tfidf2.shape[1])"
   ]
  },
  {
   "cell_type": "markdown",
   "metadata": {},
   "source": [
    "# **Reiniciando o treinamento da rede neural:**"
   ]
  },
  {
   "cell_type": "code",
   "execution_count": null,
   "metadata": {
    "execution": {
     "iopub.execute_input": "2025-09-24T01:44:23.861901Z",
     "iopub.status.busy": "2025-09-24T01:44:23.861534Z",
     "iopub.status.idle": "2025-09-24T01:44:28.972347Z",
     "shell.execute_reply": "2025-09-24T01:44:28.971346Z",
     "shell.execute_reply.started": "2025-09-24T01:44:23.861877Z"
    },
    "trusted": true
   },
   "outputs": [
    {
     "name": "stdout",
     "output_type": "stream",
     "text": [
      "Epoch 1/10\n",
      "\u001b[1m34/34\u001b[0m \u001b[32m━━━━━━━━━━━━━━━━━━━━\u001b[0m\u001b[37m\u001b[0m \u001b[1m3s\u001b[0m 15ms/step - accuracy: 0.4893 - loss: 1.6351 - val_accuracy: 0.4943 - val_loss: 0.7638\n",
      "Epoch 2/10\n",
      "\u001b[1m34/34\u001b[0m \u001b[32m━━━━━━━━━━━━━━━━━━━━\u001b[0m\u001b[37m\u001b[0m \u001b[1m0s\u001b[0m 7ms/step - accuracy: 0.4843 - loss: 0.9437 - val_accuracy: 0.5208 - val_loss: 0.5731\n",
      "Epoch 3/10\n",
      "\u001b[1m34/34\u001b[0m \u001b[32m━━━━━━━━━━━━━━━━━━━━\u001b[0m\u001b[37m\u001b[0m \u001b[1m0s\u001b[0m 7ms/step - accuracy: 0.7415 - loss: 0.5501 - val_accuracy: 0.8792 - val_loss: 0.3515\n",
      "Epoch 4/10\n",
      "\u001b[1m34/34\u001b[0m \u001b[32m━━━━━━━━━━━━━━━━━━━━\u001b[0m\u001b[37m\u001b[0m \u001b[1m0s\u001b[0m 7ms/step - accuracy: 0.9724 - loss: 0.2111 - val_accuracy: 0.9472 - val_loss: 0.1536\n",
      "Epoch 5/10\n",
      "\u001b[1m34/34\u001b[0m \u001b[32m━━━━━━━━━━━━━━━━━━━━\u001b[0m\u001b[37m\u001b[0m \u001b[1m0s\u001b[0m 7ms/step - accuracy: 0.9875 - loss: 0.0697 - val_accuracy: 0.9396 - val_loss: 0.1485\n",
      "Epoch 6/10\n",
      "\u001b[1m34/34\u001b[0m \u001b[32m━━━━━━━━━━━━━━━━━━━━\u001b[0m\u001b[37m\u001b[0m \u001b[1m0s\u001b[0m 7ms/step - accuracy: 0.9965 - loss: 0.0268 - val_accuracy: 0.9509 - val_loss: 0.1390\n",
      "Epoch 7/10\n",
      "\u001b[1m34/34\u001b[0m \u001b[32m━━━━━━━━━━━━━━━━━━━━\u001b[0m\u001b[37m\u001b[0m \u001b[1m0s\u001b[0m 7ms/step - accuracy: 0.9964 - loss: 0.0243 - val_accuracy: 0.9358 - val_loss: 0.1654\n",
      "Epoch 8/10\n",
      "\u001b[1m34/34\u001b[0m \u001b[32m━━━━━━━━━━━━━━━━━━━━\u001b[0m\u001b[37m\u001b[0m \u001b[1m0s\u001b[0m 7ms/step - accuracy: 0.9977 - loss: 0.0143 - val_accuracy: 0.9509 - val_loss: 0.1393\n",
      "Epoch 9/10\n",
      "\u001b[1m34/34\u001b[0m \u001b[32m━━━━━━━━━━━━━━━━━━━━\u001b[0m\u001b[37m\u001b[0m \u001b[1m0s\u001b[0m 7ms/step - accuracy: 0.9988 - loss: 0.0089 - val_accuracy: 0.9547 - val_loss: 0.1419\n",
      "Epoch 10/10\n",
      "\u001b[1m34/34\u001b[0m \u001b[32m━━━━━━━━━━━━━━━━━━━━\u001b[0m\u001b[37m\u001b[0m \u001b[1m0s\u001b[0m 7ms/step - accuracy: 0.9987 - loss: 0.0065 - val_accuracy: 0.9547 - val_loss: 0.1457\n"
     ]
    }
   ],
   "source": [
    "input_dim2 = X_train_tfidf2.shape[1]\n",
    "\n",
    "# Definindo as camadas de uma nova rede neural\n",
    "model2 = Sequential()\n",
    "model2.add(Dense(128, activation='relu', input_dim=input_dim2))\n",
    "model2.add(Dense(64, activation='relu'))\n",
    "model2.add(Dense(1, activation='sigmoid'))\n",
    "\n",
    "# Compilando o modelo\n",
    "model2.compile(\n",
    "    optimizer='adam',\n",
    "    loss='binary_crossentropy',\n",
    "    metrics=['accuracy']\n",
    ")\n",
    "\n",
    "class_weight = {\n",
    "    0: 1.0,  # Classe sem ódio (maioria) - peso normal\n",
    "    1: 4.0   # Classe com ódio (minoria) - peso maior para dar mais importância\n",
    "}\n",
    "\n",
    "# Iniciando o treinamento do modelo\n",
    "history2 = model2.fit(\n",
    "    X_train_tfidf2,\n",
    "    y_train2,\n",
    "    epochs=10,\n",
    "    batch_size=32,\n",
    "    validation_data=(X_val_tfidf2, y_val2),\n",
    "    class_weight = class_weight,\n",
    ")"
   ]
  },
  {
   "cell_type": "markdown",
   "metadata": {},
   "source": [
    "# **Comparando acurácia dos modelos:**"
   ]
  },
  {
   "cell_type": "code",
   "execution_count": null,
   "metadata": {
    "execution": {
     "iopub.execute_input": "2025-09-24T01:16:33.849545Z",
     "iopub.status.busy": "2025-09-24T01:16:33.849219Z",
     "iopub.status.idle": "2025-09-24T01:16:34.065325Z",
     "shell.execute_reply": "2025-09-24T01:16:34.064358Z",
     "shell.execute_reply.started": "2025-09-24T01:16:33.849519Z"
    },
    "trusted": true
   },
   "outputs": [
    {
     "data": {
      "image/png": "[encoded data removed]",
      "text/plain": [
       "<Figure size 800x500 with 1 Axes>"
      ]
     },
     "metadata": {},
     "output_type": "display_data"
    }
   ],
   "source": [
    "# --- Histórico Modelo 1 ---\n",
    "acc1 = history.history['accuracy']\n",
    "val_acc1 = history.history['val_accuracy']\n",
    "\n",
    "# --- Histórico Modelo 2 ---\n",
    "acc2 = history2.history['accuracy']\n",
    "val_acc2 = history2.history['val_accuracy']\n",
    "\n",
    "epochs = range(1, len(acc1) + 1)\n",
    "\n",
    "plt.figure(figsize=(8,5))\n",
    "\n",
    "plt.plot(epochs, acc1, 'bo-', label='Treino (Modelo 1)')\n",
    "plt.plot(epochs, acc2, 'bo--', label='Treino (Modelo 2)')\n",
    "\n",
    "plt.plot(epochs, val_acc1, color='orange',  marker='o', linestyle='-', label='Validação (Modelo 1)')\n",
    "plt.plot(epochs, val_acc2, color='orange',  marker='o', linestyle='--', label='Validação (Modelo 2)')\n",
    "\n",
    "plt.title('Comparação de Acurácia por Época')\n",
    "plt.xlabel('Época')\n",
    "plt.ylabel('Acurácia')\n",
    "plt.xticks(epochs)\n",
    "plt.legend()\n",
    "plt.grid(True)\n",
    "plt.show()"
   ]
  },
  {
   "cell_type": "code",
   "execution_count": null,
   "metadata": {
    "execution": {
     "iopub.execute_input": "2025-09-24T01:16:34.066694Z",
     "iopub.status.busy": "2025-09-24T01:16:34.066332Z",
     "iopub.status.idle": "2025-09-24T01:16:34.683854Z",
     "shell.execute_reply": "2025-09-24T01:16:34.682932Z",
     "shell.execute_reply.started": "2025-09-24T01:16:34.066673Z"
    },
    "trusted": true
   },
   "outputs": [
    {
     "name": "stdout",
     "output_type": "stream",
     "text": [
      "\u001b[1m5/5\u001b[0m \u001b[32m━━━━━━━━━━━━━━━━━━━━\u001b[0m\u001b[37m\u001b[0m \u001b[1m0s\u001b[0m 11ms/step\n",
      "\u001b[1m9/9\u001b[0m \u001b[32m━━━━━━━━━━━━━━━━━━━━\u001b[0m\u001b[37m\u001b[0m \u001b[1m0s\u001b[0m 9ms/step\n"
     ]
    },
    {
     "data": {
      "image/png": "[encoded data removed]",
      "text/plain": [
       "<Figure size 1000x400 with 2 Axes>"
      ]
     },
     "metadata": {},
     "output_type": "display_data"
    }
   ],
   "source": [
    "# --- Modelo 1 ---\n",
    "y_pred_probs1 = model.predict(X_val_tfidf)\n",
    "y_pred_labels1 = (y_pred_probs1 > 0.5).astype(int).flatten()\n",
    "cm1 = confusion_matrix(y_val, y_pred_labels1, labels=[0, 1])\n",
    "\n",
    "# --- Modelo 2 ---\n",
    "y_pred_probs2 = model2.predict(X_val_tfidf2)\n",
    "y_pred_labels2 = (y_pred_probs2 > 0.5).astype(int).flatten()\n",
    "cm2 = confusion_matrix(y_val2, y_pred_labels2, labels=[0, 1])\n",
    "\n",
    "# --- Plotando lado a lado ---\n",
    "fig, axes = plt.subplots(1, 2, figsize=(10, 4))\n",
    "\n",
    "disp1 = ConfusionMatrixDisplay(confusion_matrix=cm1, display_labels=[\"não ódio\", \"ódio\"])\n",
    "disp1.plot(cmap=\"Blues\", ax=axes[0], colorbar=False)\n",
    "axes[0].set_title(\"Modelo 1\")\n",
    "\n",
    "disp2 = ConfusionMatrixDisplay(confusion_matrix=cm2, display_labels=[\"não ódio\", \"ódio\"])\n",
    "disp2.plot(cmap=\"Blues\", ax=axes[1], colorbar=False)\n",
    "axes[1].set_title(\"Modelo 2\")\n",
    "\n",
    "plt.tight_layout()\n",
    "plt.show()"
   ]
  },
  {
   "cell_type": "markdown",
   "metadata": {},
   "source": [
    "# **Predição com os dados do dataframe de teste:**"
   ]
  },
  {
   "cell_type": "code",
   "execution_count": null,
   "metadata": {
    "execution": {
     "iopub.execute_input": "2025-09-24T01:16:34.685202Z",
     "iopub.status.busy": "2025-09-24T01:16:34.684908Z",
     "iopub.status.idle": "2025-09-24T01:16:35.049801Z",
     "shell.execute_reply": "2025-09-24T01:16:35.049031Z",
     "shell.execute_reply.started": "2025-09-24T01:16:34.685163Z"
    },
    "trusted": true
   },
   "outputs": [
    {
     "name": "stdout",
     "output_type": "stream",
     "text": [
      "\u001b[1m7/7\u001b[0m \u001b[32m━━━━━━━━━━━━━━━━━━━━\u001b[0m\u001b[37m\u001b[0m \u001b[1m0s\u001b[0m 17ms/step\n",
      "[0, 0, 0, 0, 0, 1, 0, 0, 0, 0, 1, 0, 0, 0, 1, 0, 0, 0, 0, 0, 0, 0, 0, 1, 1, 0, 0, 0, 0, 0, 0, 0, 0, 0, 1, 0, 0, 0, 0, 0, 0, 1, 0, 0, 1, 0, 1, 0, 0, 0, 0, 1, 0, 0, 1, 0, 0, 0, 0, 0, 0, 0, 0, 1, 0, 0, 0, 1, 0, 0, 0, 0, 0, 0, 0, 0, 0, 0, 0, 0, 0, 0, 1, 0, 0, 0, 0, 0, 0, 0, 1, 0, 0, 0, 0, 0, 0, 0, 0, 1, 0, 0, 1, 0, 0, 0, 0, 0, 0, 0, 0, 0, 0, 0, 0, 0, 1, 1, 0, 0, 0, 0, 0, 1, 0, 0, 0, 0, 0, 0, 0, 0, 0, 0, 0, 0, 0, 0, 0, 0, 0, 0, 0, 0, 0, 0, 0, 0, 0, 0, 0, 0, 0, 0, 0, 0, 0, 0, 0, 0, 0, 0, 0, 0, 0, 1, 1, 0, 1, 0, 0, 0, 0, 0, 0, 0, 0, 0, 0, 0, 0, 0, 0, 0, 0, 0, 0, 0, 0, 0, 1, 0, 0, 0, 0, 0, 0, 0, 0, 0]\n"
     ]
    }
   ],
   "source": [
    "# Transformar o x_test pra TF-IDF \n",
    "X_test = df_test['text']  \n",
    "X_test_tfidf = tfidf2.transform(X_test)\n",
    "\n",
    "# Fazendo predições no dataframe de teste\n",
    "y_pred_test = model2.predict(X_test_tfidf)\n",
    "limiar = 0.4  \n",
    "previsoes_binarias = [1 if p > limiar else 0 for p in y_pred_test]\n",
    "print(previsoes_binarias)"
   ]
  },
  {
   "cell_type": "code",
   "execution_count": null,
   "metadata": {
    "execution": {
     "iopub.execute_input": "2025-09-24T01:16:35.051600Z",
     "iopub.status.busy": "2025-09-24T01:16:35.050780Z",
     "iopub.status.idle": "2025-09-24T01:16:35.057660Z",
     "shell.execute_reply": "2025-09-24T01:16:35.056699Z",
     "shell.execute_reply.started": "2025-09-24T01:16:35.051572Z"
    },
    "trusted": true
   },
   "outputs": [
    {
     "name": "stdout",
     "output_type": "stream",
     "text": [
      "[[0.01037692]\n",
      " [0.02206129]\n",
      " [0.30664852]\n",
      " [0.09984276]\n",
      " [0.0191931 ]\n",
      " [0.45726714]\n",
      " [0.01597232]\n",
      " [0.02902357]\n",
      " [0.03608287]\n",
      " [0.00799316]\n",
      " [0.9147532 ]\n",
      " [0.17674248]\n",
      " [0.07887085]\n",
      " [0.04547916]\n",
      " [0.76792365]\n",
      " [0.02201213]\n",
      " [0.00268713]\n",
      " [0.10419483]\n",
      " [0.14284867]\n",
      " [0.28996578]\n",
      " [0.02392349]\n",
      " [0.02859413]\n",
      " [0.02912293]\n",
      " [0.6288972 ]\n",
      " [0.5714638 ]\n",
      " [0.19308497]\n",
      " [0.06533089]\n",
      " [0.16382252]\n",
      " [0.01070865]\n",
      " [0.04417941]\n",
      " [0.0208168 ]\n",
      " [0.01212584]\n",
      " [0.0493307 ]\n",
      " [0.07041609]\n",
      " [0.8470832 ]\n",
      " [0.03413934]\n",
      " [0.02351934]\n",
      " [0.00997694]\n",
      " [0.00741097]\n",
      " [0.06845107]\n",
      " [0.05867699]\n",
      " [0.7840536 ]\n",
      " [0.06000022]\n",
      " [0.08135486]\n",
      " [0.87933874]\n",
      " [0.00959999]\n",
      " [0.9885361 ]\n",
      " [0.05173732]\n",
      " [0.01026394]\n",
      " [0.14338109]\n",
      " [0.01313754]\n",
      " [0.4548833 ]\n",
      " [0.01154589]\n",
      " [0.10582905]\n",
      " [0.55481523]\n",
      " [0.12410881]\n",
      " [0.01763338]\n",
      " [0.00940137]\n",
      " [0.15205196]\n",
      " [0.0153492 ]\n",
      " [0.22608587]\n",
      " [0.00736415]\n",
      " [0.12665987]\n",
      " [0.9600328 ]\n",
      " [0.01909899]\n",
      " [0.00937205]\n",
      " [0.0482745 ]\n",
      " [0.45954332]\n",
      " [0.01187456]\n",
      " [0.02087616]\n",
      " [0.03129176]\n",
      " [0.03718052]\n",
      " [0.00874458]\n",
      " [0.04384125]\n",
      " [0.02680432]\n",
      " [0.0160615 ]\n",
      " [0.16620104]\n",
      " [0.01095343]\n",
      " [0.01590093]\n",
      " [0.00155411]\n",
      " [0.01799617]\n",
      " [0.00529237]\n",
      " [0.805863  ]\n",
      " [0.05176678]\n",
      " [0.00715137]\n",
      " [0.10447018]\n",
      " [0.01231986]\n",
      " [0.01952562]\n",
      " [0.36079377]\n",
      " [0.00202105]\n",
      " [0.5014702 ]\n",
      " [0.04925232]\n",
      " [0.27576536]\n",
      " [0.01838233]\n",
      " [0.01611034]\n",
      " [0.08543616]\n",
      " [0.05646669]\n",
      " [0.00562932]\n",
      " [0.01629992]\n",
      " [0.7230455 ]\n",
      " [0.00732182]\n",
      " [0.00851281]\n",
      " [0.77889276]\n",
      " [0.06194541]\n",
      " [0.01546815]\n",
      " [0.23466285]\n",
      " [0.01684924]\n",
      " [0.00725708]\n",
      " [0.02827168]\n",
      " [0.02633318]\n",
      " [0.01292951]\n",
      " [0.08214553]\n",
      " [0.1478    ]\n",
      " [0.00697552]\n",
      " [0.04130982]\n",
      " [0.01891229]\n",
      " [0.44605827]\n",
      " [0.97755533]\n",
      " [0.00759702]\n",
      " [0.01833464]\n",
      " [0.00938328]\n",
      " [0.00681058]\n",
      " [0.38060457]\n",
      " [0.4655476 ]\n",
      " [0.0217113 ]\n",
      " [0.01022758]\n",
      " [0.00632777]\n",
      " [0.00597611]\n",
      " [0.02484689]\n",
      " [0.01194143]\n",
      " [0.01125545]\n",
      " [0.00911659]\n",
      " [0.0604769 ]\n",
      " [0.09754902]\n",
      " [0.02482228]\n",
      " [0.04209403]\n",
      " [0.0666933 ]\n",
      " [0.00814214]\n",
      " [0.1507555 ]\n",
      " [0.002408  ]\n",
      " [0.03852861]\n",
      " [0.01597664]\n",
      " [0.2780401 ]\n",
      " [0.30636752]\n",
      " [0.01872615]\n",
      " [0.00532591]\n",
      " [0.00311017]\n",
      " [0.01497276]\n",
      " [0.12762722]\n",
      " [0.00735248]\n",
      " [0.01037506]\n",
      " [0.00908459]\n",
      " [0.00374976]\n",
      " [0.00746691]\n",
      " [0.00246929]\n",
      " [0.01094756]\n",
      " [0.0073056 ]\n",
      " [0.01521186]\n",
      " [0.05867698]\n",
      " [0.01847085]\n",
      " [0.00820445]\n",
      " [0.01194796]\n",
      " [0.06647151]\n",
      " [0.2717759 ]\n",
      " [0.0165958 ]\n",
      " [0.8869868 ]\n",
      " [0.93818265]\n",
      " [0.02243043]\n",
      " [0.9437946 ]\n",
      " [0.04348911]\n",
      " [0.00492451]\n",
      " [0.00498174]\n",
      " [0.00937181]\n",
      " [0.02256104]\n",
      " [0.24534854]\n",
      " [0.03078386]\n",
      " [0.04827923]\n",
      " [0.11851399]\n",
      " [0.0209049 ]\n",
      " [0.00561971]\n",
      " [0.03265642]\n",
      " [0.1033738 ]\n",
      " [0.03366832]\n",
      " [0.00302637]\n",
      " [0.03579404]\n",
      " [0.02546081]\n",
      " [0.00961473]\n",
      " [0.03061129]\n",
      " [0.04978745]\n",
      " [0.05526691]\n",
      " [0.8539885 ]\n",
      " [0.03405519]\n",
      " [0.05881736]\n",
      " [0.00197415]\n",
      " [0.03756495]\n",
      " [0.00763268]\n",
      " [0.0129927 ]\n",
      " [0.00954114]\n",
      " [0.00799411]\n",
      " [0.00336272]]\n"
     ]
    }
   ],
   "source": [
    "print(y_pred_test)"
   ]
  },
  {
   "cell_type": "code",
   "execution_count": null,
   "metadata": {
    "execution": {
     "iopub.execute_input": "2025-09-24T01:16:35.059280Z",
     "iopub.status.busy": "2025-09-24T01:16:35.058811Z",
     "iopub.status.idle": "2025-09-24T01:16:35.077188Z",
     "shell.execute_reply": "2025-09-24T01:16:35.076303Z",
     "shell.execute_reply.started": "2025-09-24T01:16:35.059251Z"
    },
    "trusted": true
   },
   "outputs": [],
   "source": [
    "# df_saida = pd.DataFrame({\n",
    "#     'ID' : df_test['ID'],\n",
    "#     'label' : previsoes_binarias\n",
    "# })\n",
    "\n",
    "# #Salvar em CSV\n",
    "# df_saida.to_csv(\"submission.csv\", index=False)\n",
    "\n",
    "# print(\"CSV criado com sucesso!\")\n",
    "# df_saida.head()"
   ]
  }
 ],
 "metadata": {
  "kaggle": {
   "accelerator": "none",
   "dataSources": [
    {
     "databundleVersionId": 13697032,
     "sourceId": 114816,
     "sourceType": "competition"
    }
   ],
   "dockerImageVersionId": 31089,
   "isGpuEnabled": false,
   "isInternetEnabled": false,
   "language": "python",
   "sourceType": "notebook"
  },
  "kernelspec": {
   "display_name": "venv",
   "language": "python",
   "name": "python3"
  },
  "language_info": {
   "codemirror_mode": {
    "name": "ipython",
    "version": 3
   },
   "file_extension": ".py",
   "mimetype": "text/x-python",
   "name": "python",
   "nbconvert_exporter": "python",
   "pygments_lexer": "ipython3",
   "version": "3.10.12"
  }
 },
 "nbformat": 4,
 "nbformat_minor": 4
}
